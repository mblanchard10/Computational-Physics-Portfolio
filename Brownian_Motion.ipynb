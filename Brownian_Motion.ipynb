{
 "cells": [
  {
   "cell_type": "markdown",
   "id": "0a319f7f",
   "metadata": {},
   "source": [
    "## Final Project - Brownian Motion\n",
    "**By Mike Blanchard & Reilly Kobbe**\n",
    "\n",
    "**Class: Computational Physics**\n",
    "\n",
    "**Professor: Dr. Titus**\n",
    "\n",
    "**Question:** How can we model Brownian Motion by simulating a pollen particle in water?\n",
    "\n",
    "**Description**\n",
    "\n",
    "For our final project, we wanted to investigate the movement of a pollen particle on the surface of water. More specifically, we wanted to model the affect that the water particles had on the pollen, on an X,Y plane. From this model, we would see how far the pollen particle was able to go and the path it took. Additionally, we wanted to see how changing the amount of particles in the water would affect the movement of the pollen particle. \n",
    "\n",
    "\n",
    "**Background**\n",
    "\n",
    "Brownian motion is the phenomena of continuous, random flucuations on the microscopic level. Since these flucuations are random, there is no preferred direction for the flucuations. As a result, the more oscillations there are, the more the particles will be evenly distributed. \n",
    "    \n",
    "Brownian motion was first discovered in 1827 by Robert Brown, the first scientist to study fluctuations. He discovered this phenomena while he was investiagating fertilization; he noticed a peculiar oscillating movement in the particles of a plant. He deemed this strange, as the plant was dead. Because of his finding, he decided to pursue research on this topic and found that the same phenomena occured in chips of glass, granite, and smoke.\n",
    "    \n",
    "Inspired by this idea, Albert Einstein decided to pursue further investigation. He wanted to see if the temperature of the substance is proportional to the average kinetic energy of the particles. In his findings, he was able to declare that a smaller particle, less viscous fluid, and a higher temperature would increase the amount of motion in the particles. "
   ]
  },
  {
   "cell_type": "code",
   "execution_count": 1,
   "id": "7e3475d3",
   "metadata": {},
   "outputs": [
    {
     "data": {
      "text/html": [
       "<div id=\"glowscript\" class=\"glowscript\"></div>"
      ],
      "text/plain": [
       "<IPython.core.display.HTML object>"
      ]
     },
     "metadata": {},
     "output_type": "display_data"
    },
    {
     "data": {
      "application/javascript": [
       "if (typeof Jupyter !== \"undefined\") { window.__context = { glowscript_container: $(\"#glowscript\").removeAttr(\"id\")};}else{ element.textContent = ' ';}"
      ],
      "text/plain": [
       "<IPython.core.display.Javascript object>"
      ]
     },
     "metadata": {},
     "output_type": "display_data"
    }
   ],
   "source": [
    "from vpython import *\n",
    "import numpy as np\n",
    "import random as rand\n",
    "import matplotlib.pyplot as plt\n",
    "import pylab as py"
   ]
  },
  {
   "cell_type": "code",
   "execution_count": 2,
   "id": "0909ba8b",
   "metadata": {},
   "outputs": [],
   "source": [
    "N = 1000 #number of particles"
   ]
  },
  {
   "cell_type": "markdown",
   "id": "f95c59e2",
   "metadata": {},
   "source": [
    "**Random Walk**\n",
    "\n",
    "The random walk is the method we used to model Brownian Motion. Although a random walk models a discrete system, it is still a valid way to visualize Brownian Motion. This method generates random coordinates on an X, Y plane which represents the unpreferred direction of the particles. Furthermore, a particle's location stems from the Monte Carlo Effect. The Monte Carlo Effect represents the random placement of particles. This is a theory used whenever there is an experiment that includes randomization.\n",
    "\n",
    "One could envision the movement of the random walk like a tree. A particle will be \"walking\" down a discrete timeline. Once it comes into contact with another particle, the two particles will branch off of each other changing directions. "
   ]
  },
  {
   "cell_type": "code",
   "execution_count": 3,
   "id": "be2047af",
   "metadata": {},
   "outputs": [],
   "source": [
    "#Look at relaionship between distance travled and number of step taken \n",
    "\n",
    "def randomwalk(N):\n",
    "    x = np.zeros(N)\n",
    "    y = np.zeros(N)\n",
    "    \n",
    "    #Declare compus to represent North, South, East, West\n",
    "    for i in range(1,N):\n",
    "        Compus = rand.randint(1,4)\n",
    "        if Compus == 1:\n",
    "            x[i] = x[i - 1] + 1\n",
    "            y[i] = y[i - 1]\n",
    "        elif Compus == 2:\n",
    "            x[i] = x[i - 1] - 1\n",
    "            y[i] = y[i - 1]\n",
    "        elif Compus == 3:\n",
    "            x[i] = x[i - 1]\n",
    "            y[i] = y[i - 1] + 1\n",
    "        else:\n",
    "            x[i] = x[i - 1]\n",
    "            y[i] = y[i - 1] - 1\n",
    "            \n",
    "    #ADD a Mark at the to see how far they traveled \n",
    "\n",
    "    py.title(\"Random Walk, Particles = \" + str(N))\n",
    "    plt.plot([0],[0],'y*', markersize=16)\n",
    "    py.plot(x, y)\n",
    "    py.show()"
   ]
  },
  {
   "cell_type": "code",
   "execution_count": 4,
   "id": "ffaef1fe",
   "metadata": {},
   "outputs": [
    {
     "data": {
      "image/png": "[encoded data removed]",
      "text/plain": [
       "<Figure size 432x288 with 1 Axes>"
      ]
     },
     "metadata": {
      "needs_background": "light"
     },
     "output_type": "display_data"
    }
   ],
   "source": [
    "randomwalk(N)"
   ]
  },
  {
   "cell_type": "markdown",
   "id": "e1d26d77",
   "metadata": {},
   "source": [
    "**Taking a Closer Look**\n",
    "\n",
    "Now that we have explained and modeled what Brownian Motion is, lets use a real example. \n",
    "\n",
    "As explained before, we wanted to simulate a pollen particle in water. In the model you will see multiple small red spheres and a large blue sphere. The red particles are simulating the water particle and the blue sphere is simulating the pollen particle. However, the significance of these particles is not just the size or color, it is their mass. By using acurate masses, each particle is able to move in a realistic manner. As you probably guessed, the water particles have an extreamly small mass compared to the pollen particle. This code was based off of our first project when we modeled an ideal gas. The primary differences are the differnet properties we added to the balls. Additionally, we added a distance equation to see how far the balled moves each time.\n",
    "\n",
    "The way the model works is that each shpere is assigned to a random position. The water particles will move via Brownian Motion. The movement of the water particles will effect where the pollen particle goes. As a result, the movement of the pollen particle models Brownian Motion, as its path is totally random and can not be predicted. At the end of the simulation, we calculate the distance traveled. This is not to scale but to get a numerical sense of how far the ball travels given different parameters."
   ]
  },
  {
   "cell_type": "code",
   "execution_count": 5,
   "id": "0180ebf7",
   "metadata": {},
   "outputs": [],
   "source": [
    "#constants\n",
    "R = .1925 #Radius of water molecule (nanometers)\n",
    "L = 80*R #length of box in m\n",
    "thick = L/100 #thickness of box wall in m\n",
    "k = 1.4e-23 #boltzmann constant\n",
    "T = 300 #temp in K\n",
    "particles = [] #list of particles\n",
    "mass = [] #array of masses"
   ]
  },
  {
   "cell_type": "code",
   "execution_count": 6,
   "id": "323b3593",
   "metadata": {},
   "outputs": [],
   "source": [
    "def check_collisions(particlelist):\n",
    "    pairs = [] #a list of pairs of spheres that are overlapping\n",
    "    \n",
    "    N = len(particlelist) #number of particles\n",
    "    \n",
    "    for i in range(N): #start on first particle (i)\n",
    "        for j in range(i+1,N): #start on second particle (int after i)\n",
    "            r1 = particlelist[i].pos\n",
    "            r2 = particlelist[j].pos\n",
    "            d = mag(r2-r1)\n",
    "            if d < 2*R:\n",
    "                pairs.append([i,j]) #store the pair of indicies        \n",
    "    return pairs "
   ]
  },
  {
   "cell_type": "code",
   "execution_count": 7,
   "id": "212904eb",
   "metadata": {},
   "outputs": [],
   "source": [
    "def calc_collision(i,j,particle):\n",
    "    r1 = particles[i].pos\n",
    "    r2 = particles[j].pos\n",
    "    v1 = particles[i].v\n",
    "    v2 = particles[j].v\n",
    "    \n",
    "    p1 = particle.m*v1\n",
    "    p2 = particle.m*v2\n",
    "    \n",
    "    #transform to reference frame of particle 1\n",
    "    v2rel = v2 - v1\n",
    "    r2rel = r2 - r1\n",
    "    \n",
    "    #find time when collision ocurred\n",
    "    dx = dot(r2rel, hat(v2rel))\n",
    "    dy = mag(cross(r2rel, hat(v2rel)))\n",
    "    \n",
    "    if dy/2/R > -1 and dy/2/R < 1:\n",
    "        alpha = asin(dy/2/R)\n",
    "    else:\n",
    "        alpha = 0\n",
    "    d = 2*R*cos(alpha) + dx\n",
    "    deltat = d/mag(v2rel)\n",
    "    \n",
    "    #move particles backward in time to their locations at the collision\n",
    "    particles[i].pos = particles[i].pos - particles[i].v*deltat\n",
    "    particles[j].pos = particles[j].pos - particles[j].v*deltat\n",
    "    \n",
    "    #calculate new momenta using CM reference frame\n",
    "    r1 = particles[i].pos\n",
    "    r2 = particles[j].pos\n",
    "    M = 2*particle.m #total mass \n",
    "    ptot = p1+p2 #total momentum\n",
    "    vcm = ptot/M\n",
    "    v1rel = v1 - vcm\n",
    "    v2rel = v2 - vcm\n",
    "    p1rel = particle.m*v1rel\n",
    "    p2rel = particle.m*v2rel\n",
    "    r = r2 - r1\n",
    "    p1rel = p1rel - 2*dot(p1rel,hat(r))*hat(r)\n",
    "    p2rel = p2rel - 2*dot(p2rel,hat(r))*hat(r)\n",
    "    v1rel = p1rel/particle.m\n",
    "    v2rel = p2rel/particle.m\n",
    "    v1 = vcm + v1rel\n",
    "    v2 = vcm + v2rel\n",
    "    particles[i].v = v1\n",
    "    particles[j].v = v2\n",
    "\n",
    "    #move particles forward in time to their locations at the end of the time step\n",
    "    particles[i].pos = particles[i].pos + particles[i].v*deltat\n",
    "    particles[j].pos = particles[j].pos + particles[j].v*deltat"
   ]
  },
  {
   "cell_type": "code",
   "execution_count": 8,
   "id": "c11d6302",
   "metadata": {},
   "outputs": [],
   "source": [
    "def plot(N):\n",
    "    scene1 = canvas(title=\"N Particles in a Box\")\n",
    "\n",
    "    #visual objects\n",
    "    Lwall = box(pos = vec(-L/2, 0, 0), size = vec(thick, L, 0), color=color.white)\n",
    "    Rwall = box(pos = vec(L/2, 0, 0), size = vec(thick, L, 0), color=color.white)\n",
    "    Bwall = box(pos = vec(0, -L/2, 0), size = vec(L, thick, 0), color=color.white)\n",
    "    Twall = box(pos = vec(0, L/2, 0), size = vec(L, thick, 0), color=color.white)\n",
    "\n",
    "    #create water molecules and pollen molecule\n",
    "    for i in range(N):\n",
    "        if i==0:\n",
    "            particle = sphere(pos = vec(0,0,0), radius = 3*R, color = color.cyan, make_trail=True, trail_radius=0.3*R)\n",
    "            particle.m = .0025 #mass of pollen particle\n",
    "        else:\n",
    "            particle = sphere(pos = L/2*vec(rand.uniform(-0.9,0.9),rand.uniform(-0.9,0.9),0), radius = R, color = color.red)\n",
    "            particle.m = 2.99e-23 #mass of a water particle\n",
    "            \n",
    "        #initial velocity and momentum\n",
    "        s = np.sqrt(2*3/2*k*T/particle.m) #initial speeds\n",
    "        particle.v = s*hat(vec(rand.uniform(-1,1), rand.uniform(-1,1), 0))\n",
    "\n",
    "        particles.append(particle)\n",
    "\n",
    "    pairs = check_collisions(particles)\n",
    "\n",
    "    while len(pairs) > 0: #repeat proccess until no pairs\n",
    "        for pair in pairs:\n",
    "            i = pair[0]\n",
    "            j = pair[1]\n",
    "            \n",
    "            #if particles[i] == particles[0] or particles[j] == particles[0]:\n",
    "                #particles[0].pos = L/2*vec(0,0,0)\n",
    "            \n",
    "            particles[i].pos = L/2*vec(rand.uniform(-0.9,0.9),rand.uniform(-0.9,0.9),0)\n",
    "            particles[j].pos = L/2*vec(rand.uniform(-0.9,0.9),rand.uniform(-0.9,0.9),0)\n",
    "        \n",
    "        particles[0].pos = L/2*vec(0,0,0)\n",
    "        pairs = check_collisions(particles)\n",
    "\n",
    "    scene1.pause()\n",
    "    #time\n",
    "    t = 0\n",
    "    dt = R/s/10\n",
    "    #Nsteps = 3e4 #number of time steps for the loop   \n",
    "    Nsteps = 3000\n",
    "    \n",
    "    #start = particles[0].pos.x + particles[0].pos.y\n",
    "    #print(\"Original Distance Traveled:\", start)\n",
    "    \n",
    "    distTrav = 0\n",
    "    dPos = 0\n",
    "    y1 = 0\n",
    "    x1 = 0\n",
    "    \n",
    "    while t < Nsteps*dt:\n",
    "    #while t < 10:\n",
    "        rate(1000) #sets number of loops per second in order to slow down or speed up visualization\n",
    "\n",
    "        #update position of each particle\n",
    "        for particle in particles:\n",
    "            particle.pos = particle.pos + particle.v*dt\n",
    "\n",
    "        #Handle Collisions\n",
    "        pairs = check_collisions(particles)\n",
    "        for pair in pairs:\n",
    "            i = pair[0]\n",
    "            j = pair[1]\n",
    "            calc_collision(i,j,particle)\n",
    "\n",
    "        #handle collision with walls\n",
    "        for particle in particles:\n",
    "            if particle.pos.x > L/2:\n",
    "                particle.v.x = - abs(particle.v.x)\n",
    "            elif particle.pos.x < -L/2:\n",
    "                particle.v.x = abs(particle.v.x)\n",
    "\n",
    "            if particle.pos.y > L/2:\n",
    "                particle.v.y = - abs(particle.v.y)\n",
    "            elif particle.pos.y < -L/2:\n",
    "                particle.v.y = abs(particle.v.y)\n",
    "\n",
    "            if particle.pos.z > L/2:\n",
    "                particle.v.z = - abs(particle.v.z)\n",
    "            elif particle.pos.z < -L/2:\n",
    "                particle.v.z = abs(particle.v.z)\n",
    "\n",
    "        t = t + dt\n",
    "\n",
    "        y2 = particles[0].pos.y\n",
    "        x2 = particles[0].pos.x\n",
    "        dy = (y2-y1)**2\n",
    "        dx = (x2-x1)**2\n",
    "        \n",
    "        dpos = np.sqrt(dy+dx)\n",
    "        y1 = y2\n",
    "        x1 = x2\n",
    "        \n",
    "        distTrav = distTrav + dpos\n",
    "         \n",
    "    print(\"Final Distance Traveled:\", distTrav)"
   ]
  },
  {
   "cell_type": "markdown",
   "id": "b9eb7b67",
   "metadata": {},
   "source": [
    "**About The Graph**\n",
    "\n",
    "Theoretically, the graph should show the pollen particle moving around randomly based on the Brownian Motion. Since the number of particles strictly correlates to how fast the pollen molecule is moving, we decided to start with several pollen molecules no smaller than 50. We also decided to have the rate at which the pollen molecules move set to one thousand. \n",
    "\n",
    "In the code above, check_collision is used to help determine all the pairs that have collided with each other in the sphere array. It then returns those pairs of collided atoms and molecules.\n",
    "\n",
    "calc_collision determines if the molecules or atoms collide with the wall or another particle. It calculates the velocity, momentum, and position in which the collision took place. This is important as it helps us keep track of what the pollen molecule has collided with. \n",
    "\n",
    "We believe that the more water molecules there are the faster the Pollen molecule will move."
   ]
  },
  {
   "cell_type": "code",
   "execution_count": 9,
   "id": "124249a5",
   "metadata": {},
   "outputs": [
    {
     "data": {
      "text/html": [
       "<div id=\"glowscript\" class=\"glowscript\"></div>"
      ],
      "text/plain": [
       "<IPython.core.display.HTML object>"
      ]
     },
     "metadata": {},
     "output_type": "display_data"
    },
    {
     "data": {
      "application/javascript": [
       "if (typeof Jupyter !== \"undefined\") { window.__context = { glowscript_container: $(\"#glowscript\").removeAttr(\"id\")};}else{ element.textContent = ' ';}"
      ],
      "text/plain": [
       "<IPython.core.display.Javascript object>"
      ]
     },
     "metadata": {},
     "output_type": "display_data"
    },
    {
     "data": {
      "application/javascript": [
       "if (typeof Jupyter !== \"undefined\") {require.undef(\"nbextensions/vpython_libraries/glow.min\");}else{element.textContent = ' ';}"
      ],
      "text/plain": [
       "<IPython.core.display.Javascript object>"
      ]
     },
     "metadata": {},
     "output_type": "display_data"
    },
    {
     "data": {
      "application/javascript": [
       "if (typeof Jupyter !== \"undefined\") {require.undef(\"nbextensions/vpython_libraries/glowcomm\");}else{element.textContent = ' ';}"
      ],
      "text/plain": [
       "<IPython.core.display.Javascript object>"
      ]
     },
     "metadata": {},
     "output_type": "display_data"
    },
    {
     "data": {
      "application/javascript": [
       "if (typeof Jupyter !== \"undefined\") {require.undef(\"nbextensions/vpython_libraries/jquery-ui.custom.min\");}else{element.textContent = ' ';}"
      ],
      "text/plain": [
       "<IPython.core.display.Javascript object>"
      ]
     },
     "metadata": {},
     "output_type": "display_data"
    },
    {
     "data": {
      "application/javascript": [
       "if (typeof Jupyter !== \"undefined\") {require([\"nbextensions/vpython_libraries/glow.min\"], function(){console.log(\"GLOW LOADED\");});}else{element.textContent = ' ';}"
      ],
      "text/plain": [
       "<IPython.core.display.Javascript object>"
      ]
     },
     "metadata": {},
     "output_type": "display_data"
    },
    {
     "data": {
      "application/javascript": [
       "if (typeof Jupyter !== \"undefined\") {require([\"nbextensions/vpython_libraries/glowcomm\"], function(){console.log(\"GLOWCOMM LOADED\");});}else{element.textContent = ' ';}"
      ],
      "text/plain": [
       "<IPython.core.display.Javascript object>"
      ]
     },
     "metadata": {},
     "output_type": "display_data"
    },
    {
     "data": {
      "application/javascript": [
       "if (typeof Jupyter !== \"undefined\") {require([\"nbextensions/vpython_libraries/jquery-ui.custom.min\"], function(){console.log(\"JQUERY LOADED\");});}else{element.textContent = ' ';}"
      ],
      "text/plain": [
       "<IPython.core.display.Javascript object>"
      ]
     },
     "metadata": {},
     "output_type": "display_data"
    },
    {
     "name": "stdout",
     "output_type": "stream",
     "text": [
      "Final Distance Traveled: 50.415880194928945\n"
     ]
    }
   ],
   "source": [
    "plot(150)"
   ]
  },
  {
   "cell_type": "markdown",
   "id": "3966b4d2",
   "metadata": {},
   "source": [
    "**Conclusion**\n",
    "\n",
    "After creating and studying the model, we noticed that the more water particles there are, the shorter the distance the pollen travels. Although water particles stay consistent, this was a good model to see the relationship between the two varaibles. Additionally, we made the conclusion that the model definatley supports Brownian Motion, as the path of the ball was different each time. All in all, Brownian Motion is a fascinating subject. It may seem like a simple concept, but it can be very interesting when you begin to apply the idea to real life models, such as this one."
   ]
  },
  {
   "cell_type": "code",
   "execution_count": null,
   "id": "b26aae4b",
   "metadata": {},
   "outputs": [],
   "source": []
  }
 ],
 "metadata": {
  "kernelspec": {
   "display_name": "Python 3 (ipykernel)",
   "language": "python",
   "name": "python3"
  },
  "language_info": {
   "codemirror_mode": {
    "name": "ipython",
    "version": 3
   },
   "file_extension": ".py",
   "mimetype": "text/x-python",
   "name": "python",
   "nbconvert_exporter": "python",
   "pygments_lexer": "ipython3",
   "version": "3.9.7"
  }
 },
 "nbformat": 4,
 "nbformat_minor": 5
}
